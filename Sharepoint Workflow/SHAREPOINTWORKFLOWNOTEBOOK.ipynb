{
 "metadata": {
  "kernelspec": {
   "display_name": "Streamlit Notebook",
   "name": "streamlit"
  },
  "lastEditStatus": {
   "notebookId": "l5qv2mqho4xqsjogodqu",
   "authorId": "5574880875019",
   "authorName": "TBOON",
   "authorEmail": "terry.boon@snowflake.com",
   "sessionId": "a19fffb8-2aa6-40e9-8656-42ec16634020",
   "lastEditTime": 1751391925171
  }
 },
 "nbformat_minor": 5,
 "nbformat": 4,
 "cells": [
  {
   "cell_type": "markdown",
   "id": "3d85fbbb-feff-41d4-827f-7f29ba23110b",
   "metadata": {
    "name": "readme",
    "collapsed": false
   },
   "source": "# SharePoint File Manager Notebook\n\nThis Snowflake notebook provides a user interface for managing SharePoint files directly from Snowflake using Streamlit.\n\n## Features\n\n* Connect to SharePoint using site URL and credentials\n* Browse files in the default document library\n* Download selected files to local storage\n* Secure access through Snowflakes network rules and external access integration\n\n## Prerequisites\n\n* Access to a Snowflake account with appropriate permissions\n* SharePoint site URL and valid credentials\n* Required Python packages:\n  - streamlit\n  - office365-runtime\n  - office365-sharepoint\n\n## Setup\n\nThe notebook consists of two main components:\n\n1. **Network Configuration (SQL)**\n   * Creates network rules for SharePoint domains\n   * Sets up external access integration for secure communication\n\n2. **User Interface (Python)**\n   * Provides a Streamlit-based interface for:\n     - SharePoint authentication\n     - File browsing\n     - File downloading\n\n## Usage\n\n1. Enter your SharePoint site URL\n2. Provide your username (email)\n3. Enter your password\n4. Click \"Connect\" to authenticate\n5. Select a file from the displayed list\n6. Click \"Download Selected File\" to save the file locally\n\n## Security Notes\n\n* Credentials are handled securely through Streamlits password input\n* Network access is restricted to SharePoint domains\n* External access integration ensures secure communication\n"
  },
  {
   "cell_type": "code",
   "id": "68c40e39-e600-449b-823e-63cb8dd2a203",
   "metadata": {
    "language": "sql",
    "name": "EgressRule",
    "codeCollapsed": false
   },
   "outputs": [],
   "source": "/* Create network rule for SharePoint domains */\nCREATE\nOR REPLACE NETWORK RULE sharepoint_network_rule MODE = EGRESS TYPE = HOST_PORT VALUE_LIST = ('*.sharepoint.com', '*.microsoftonline.com');\n/* Create external access integration */\nCREATE\nOR REPLACE EXTERNAL ACCESS INTEGRATION sharepoint_integration ALLOWED_NETWORK_RULES = (sharepoint_network_rule) ENABLED = true;\n\nGRANT USAGE ON INTEGRATION sharepoint_integration TO ROLE public;",
   "execution_count": null
  },
  {
   "cell_type": "code",
   "id": "2939a376-edcc-4f84-a57a-eddac94729e5",
   "metadata": {
    "language": "python",
    "name": "UX",
    "codeCollapsed": false
   },
   "outputs": [],
   "source": "import streamlit as st\nfrom office365.runtime.auth.user_credential import UserCredential\nfrom office365.sharepoint.client_context import ClientContext\nfrom office365.sharepoint.files.file import File\nimport os\n\n# Set up the Streamlit interface\nst.title(\"SharePoint File Manager\")\n\n# Input fields for SharePoint connection\nwith st.form(\"sharepoint_connection\"):\n    site_url = st.text_input(\"SharePoint Site URL\")\n    username = st.text_input(\"Username (email)\")\n    password = st.text_input(\"Password\", type=\"password\")\n    submit_button = st.form_submit_button(\"Connect\")\n\nif submit_button and site_url and username and password:\n    try:\n        # Create SharePoint context\n        ctx = ClientContext(site_url).with_credentials(\n            UserCredential(username, password)\n        )\n        \n        # Get the root folder\n        root_folder = ctx.web.default_document_library().root_folder\n        ctx.load(root_folder)\n        ctx.execute_query()\n        \n        # Get all files in the document library\n        files = root_folder.files\n        ctx.load(files)\n        ctx.execute_query()\n        \n        # Display files in a table\n        if files:\n            file_data = []\n            for file in files:\n                file_data.append({\n                    \"Name\": file.properties[\"Name\"],\n                    \"Modified\": file.properties[\"TimeLastModified\"],\n                    \"Size (KB)\": round(file.properties[\"Length\"] / 1024, 2)\n                })\n            \n            st.write(\"### Available Files\")\n            selected_file = st.selectbox(\n                \"Select a file to download\",\n                options=[f[\"Name\"] for f in file_data]\n            )\n            \n            if st.button(\"Download Selected File\"):\n                for file in files:\n                    if file.properties[\"Name\"] == selected_file:\n                        # Create download folder if it doesn't exist\n                        if not os.path.exists(\"downloads\"):\n                            os.makedirs(\"downloads\")\n                        \n                        # Download the file\n                        with open(f\"downloads/{selected_file}\", \"wb\") as local_file:\n                            file.download(local_file).execute_query()\n                        st.success(f\"File downloaded successfully to downloads/{selected_file}\")\n                        break\n        else:\n            st.info(\"No files found in the document library\")\n            \n    except Exception as e:\n        st.error(f\"Error connecting to SharePoint: {str(e)}\")\n",
   "execution_count": null
  }
 ]
}